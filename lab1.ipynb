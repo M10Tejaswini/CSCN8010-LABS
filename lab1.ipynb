{
 "cells": [
  {
   "cell_type": "markdown",
   "metadata": {},
   "source": [
    "# LAB1\n",
    "## Introduction \n",
    "### Part 1\n",
    "\n",
    "I think that this is a **correct** statement.\n",
    "\n"
   ]
  },
  {
   "cell_type": "markdown",
   "metadata": {},
   "source": [
    "This is a <sub>subscript</sub> text"
   ]
  },
  {
   "cell_type": "markdown",
   "metadata": {},
   "source": [
    "[Click Me](https://www.google.com)\n",
    "\n",
    "![That is a logo](googlelogo.png)\n",
    "\n",
    "\n",
    "This is a list of items i need to buy:\n",
    "* apples\n",
    "* oranges \n",
    "* bananas\n",
    "\n",
    "1. First item\n",
    "2. second item\n",
    "3. third  item\n",
    "\n",
    "\n",
    "This is a table \n",
    "| Header 1 | Header 2 | Header 3 |\n",
    "|----------|----------|----------|\n",
    "| Row 1 Col 1 | Row 1 Col 2 | Row 1 Col 3 |\n",
    "| Row 2 Col 1 | Row 2 Col 2 | Row 2 Col 3 |\n",
    "| Row 3 Col 1 | Row 3 Col 2 | Row 3 Col 3 |\n"
   ]
  },
  {
   "cell_type": "code",
   "execution_count": 1,
   "metadata": {},
   "outputs": [
    {
     "name": "stdout",
     "output_type": "stream",
     "text": [
      "5\n",
      "7\n",
      "12\n"
     ]
    }
   ],
   "source": [
    "x = 5\n",
    "print(x)\n",
    "y = 7\n",
    "print(y)\n",
    "print(x+y)"
   ]
  }
 ],
 "metadata": {
  "kernelspec": {
   "display_name": "Python 3",
   "language": "python",
   "name": "python3"
  },
  "language_info": {
   "codemirror_mode": {
    "name": "ipython",
    "version": 3
   },
   "file_extension": ".py",
   "mimetype": "text/x-python",
   "name": "python",
   "nbconvert_exporter": "python",
   "pygments_lexer": "ipython3",
   "version": "3.12.6"
  }
 },
 "nbformat": 4,
 "nbformat_minor": 2
}
